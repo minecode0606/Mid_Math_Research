{
 "cells": [
  {
   "cell_type": "markdown",
   "metadata": {
    "collapsed": true,
    "pycharm": {
     "name": "#%% md\n"
    }
   },
   "source": [
    "# Convert decimal to binary."
   ]
  },
  {
   "cell_type": "code",
   "execution_count": 2,
   "outputs": [],
   "source": [
    "def dectobin(num, digit = 8):\n",
    "    digit = digit - 1\n",
    "    if digit > 0:\n",
    "        dectobin(num // 2, digit)\n",
    "    print(num % 2, end=\"\")"
   ],
   "metadata": {
    "collapsed": false,
    "pycharm": {
     "name": "#%%\n"
    }
   }
  },
  {
   "cell_type": "code",
   "execution_count": 3,
   "outputs": [
    {
     "name": "stdout",
     "output_type": "stream",
     "text": [
      "00111100"
     ]
    }
   ],
   "source": [
    "dectobin(60)"
   ],
   "metadata": {
    "collapsed": false,
    "pycharm": {
     "name": "#%%\n"
    }
   }
  },
  {
   "cell_type": "code",
   "execution_count": 15,
   "outputs": [],
   "source": [
    "class Decimal_to_binary():\n",
    "    def __init__(self):\n",
    "        self.decobin_total_list = []\n",
    "    def dectobin(self, num, digit = 8):\n",
    "        digit = digit - 1\n",
    "        if digit > 0:\n",
    "            dectobin(num // 2, digit)\n",
    "        self.decobin_total_list.append(num % 2)\n",
    "        return self.decobin_total_list"
   ],
   "metadata": {
    "collapsed": false,
    "pycharm": {
     "name": "#%%\n"
    }
   }
  },
  {
   "cell_type": "code",
   "execution_count": 14,
   "outputs": [
    {
     "name": "stdout",
     "output_type": "stream",
     "text": [
      "0101101"
     ]
    }
   ],
   "source": [
    "dtb = Decimal_to_binary()\n",
    "dtb.dectobin(90)"
   ],
   "metadata": {
    "collapsed": false,
    "pycharm": {
     "name": "#%%\n"
    }
   }
  },
  {
   "cell_type": "markdown",
   "source": [
    "stopship 2021/07/10"
   ],
   "metadata": {
    "collapsed": false
   }
  }
 ],
 "metadata": {
  "kernelspec": {
   "display_name": "Python 3",
   "language": "python",
   "name": "python3"
  },
  "language_info": {
   "codemirror_mode": {
    "name": "ipython",
    "version": 2
   },
   "file_extension": ".py",
   "mimetype": "text/x-python",
   "name": "python",
   "nbconvert_exporter": "python",
   "pygments_lexer": "ipython2",
   "version": "2.7.6"
  }
 },
 "nbformat": 4,
 "nbformat_minor": 0
}