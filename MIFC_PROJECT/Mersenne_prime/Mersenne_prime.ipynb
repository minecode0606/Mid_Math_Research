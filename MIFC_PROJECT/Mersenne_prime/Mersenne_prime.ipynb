{
 "cells": [
  {
   "cell_type": "markdown",
   "metadata": {
    "collapsed": true,
    "pycharm": {
     "name": "#%% md\n"
    }
   },
   "source": [
    "# 메르센 소수(Mersenne prime)"
   ]
  },
  {
   "cell_type": "markdown",
   "source": [
    "## 소수 판별 알고리즘"
   ],
   "metadata": {
    "collapsed": false,
    "pycharm": {
     "name": "#%% md\n"
    }
   }
  },
  {
   "cell_type": "markdown",
   "source": [
    "#### 소수란\n",
    "\n",
    "6의 약수는 1,2,3,6으로 4개지만 7의 약수는 1괴 7뿐입니다.\n",
    "**이와같이 1보다 큰 자연수 중 1과 그 자신만을 약수로 가지는 수를 소수라고 합니다.**\n",
    "\n",
    "### 응용\n",
    "달리말해서, N이 소수일때 N - 1까지 반복문을 돌려서, 나누어 떨어지지 않으면 소수라는것이라고 할수 있습니다.\n",
    "자, 이제 이를 코드로 옮겨봅시다."
   ],
   "metadata": {
    "collapsed": false,
    "pycharm": {
     "name": "#%% md\n"
    }
   }
  },
  {
   "cell_type": "code",
   "execution_count": 6,
   "outputs": [],
   "source": [
    "def is_frime_1(N:int) -> bool:\n",
    "    \"\"\"\n",
    "    자연수 N을 입력받은후 N이 소수인지 아닌지 판별한다.\n",
    "    :param N: 자연수 N을 매개변수로 연산을 수행합니다.\n",
    "    :return: N이 소수인지 아닌지 출력합니다. 소수:True, 합성수:False\n",
    "    \"\"\"\n",
    "    if N == 1: # 1은 소수가 아님으로 예외처리해줍니다.: 만약 N이 1이라면\n",
    "        return False # 1은 소수가 아닙니다.\n",
    "    for i in range(2, N - 1): # 2부터 (N - 1)까지에 모든 수를 확인하여\n",
    "        if N % i == 0: # 만약 N이 해당 수로 나누어 떨어진다면\n",
    "            return False # 소수가 아니다.\n",
    "\n",
    "    return True # 나누어 떨어지지 않는다면 소수이다."
   ],
   "metadata": {
    "collapsed": false,
    "pycharm": {
     "name": "#%%\n"
    }
   }
  },
  {
   "cell_type": "markdown",
   "source": [
    "이 알고리즘은 2부터 N - 1까지 모든 자연수에 대해 연산을 수행해야 합니다.\n",
    "따라서 이 알고리즘의 시간 복잡도는 O(N)이라고 할수 있습니다."
   ],
   "metadata": {
    "collapsed": false,
    "pycharm": {
     "name": "#%% md\n"
    }
   }
  },
  {
   "cell_type": "markdown",
   "source": [
    "#### 소수 판별 알고리즘 개선"
   ],
   "metadata": {
    "collapsed": false,
    "pycharm": {
     "name": "#%% md\n"
    }
   }
  },
  {
   "cell_type": "markdown",
   "source": [
    "16의 약수를 펼쳐보죠.\n",
    "16의 약수는 1,2,4,8,16입니다.\n",
    "위 수들에서 규칙성을 찾아보면 모든 수가 중간수에 대해서 대칭인것을 확인할수 있습니다.\n",
    "예를들어서\n",
    "* 1 x 16 = 16\n",
    "* 2 x 8 = 16\n",
    "* 가운데 4는 대칭이 될 요소가 없음.\n",
    "\n",
    "따라서 우리는 특정한 자연수의 모든 약수를 찾을 때 가운대 약수(제곱근)까지만 연산을 수행하면 됩니다.\n",
    "ex) 16이 2로 나누어 떨어지면 8로도 나누어 떨어진다는것을 알수 있습니다."
   ],
   "metadata": {
    "collapsed": false,
    "pycharm": {
     "name": "#%% md\n"
    }
   }
  },
  {
   "cell_type": "code",
   "source": [
    "# 개선된 알고리즘\n",
    "\n",
    "import math # 제곱근 연산을 위해 math 라이브러리를 임포트합니다.\n",
    "def is_frime_2(N:int) -> bool:\n",
    "    \"\"\"\n",
    "    자연수 N을 판별받은후 더 나아진 알고리즘으로 N이 소수인지 아닌지 판별합니다.\n",
    "    :param N: 자연수 N을 매개변수로 연산을 수행합니다.\n",
    "    :return: N이 소수인지 아닌지 출력합니다. 소수:True, 합성수:False\n",
    "    \"\"\"\n",
    "    if N == 1: # 1은 소수가 아님으로 예외처리해줍니다.: 만약 N이 1이라면\n",
    "        return False # 1은 소수가 아닙니다.\n",
    "    for i in range(2, int(math.sqrt(N)) + 1): # 2부터 N의 제곱근까지 확인하여\n",
    "        if N % i == 0: # 만약 N이 해당 수로 나누어 떨어진다면\n",
    "            return False # 소수가 아니다\n",
    "    return True # 나누어 떨어지지 않으면 소수이다."
   ],
   "metadata": {
    "collapsed": false,
    "pycharm": {
     "name": "#%%\n"
    }
   },
   "execution_count": 7,
   "outputs": []
  },
  {
   "cell_type": "markdown",
   "source": [
    "위 코드는 2부터 N의 제곱근(소수점 무시)까지의 연산을 수행해야 합니다.\n",
    "따라서 위 코드의 시간뵥잡됴는 O(N*1/2)로 앞서 개선전 알고리즘의 반인것을 알수 있습니다."
   ],
   "metadata": {
    "collapsed": false,
    "pycharm": {
     "name": "#%% md\n"
    }
   }
  },
  {
   "cell_type": "markdown",
   "source": [
    "## 메르센 소수\n",
    "\n",
    "#### 메르센 수\n",
    "메르센 수란 n이 자연수일때\n",
    "M(n) = 2^n -1 꼴의 수를 말합니다.\n",
    "그럼 메르센 수를 구하는 함수를 만들어 봅시다."
   ],
   "metadata": {
    "collapsed": false,
    "pycharm": {
     "name": "#%% md\n"
    }
   }
  },
  {
   "cell_type": "code",
   "execution_count": 8,
   "outputs": [],
   "source": [
    "def is_mersenne_number(N: int) -> int:\n",
    "    \"\"\"\n",
    "    메르센 수를 구하는 알고리즙입니다.\n",
    "    :param N: 지연수 N을 매개변수로 갖습니다.\n",
    "    :return: 메르센 수 N울 출력합니다.\n",
    "    \"\"\"\n",
    "    return N ** 2 - 1 # N의 제곱근에서 1을 뺸 값을 출력합니다."
   ],
   "metadata": {
    "collapsed": false,
    "pycharm": {
     "name": "#%%\n"
    }
   }
  },
  {
   "cell_type": "markdown",
   "source": [
    "### 메르센 소수\n",
    "메르센 소수란 메르센 수 M(N)중 소수인 수를 말합니다.\n",
    "대표적인 메르센 소수로는\n",
    "* ~~M(1) = 2^1 - 1 = 2 - 1 = 1~~ <- 소수가 아님\n",
    "* M(2) = 2^2 - 1 = 4 - 1 = 3\n",
    "* M(3) = 2^3 - 1 = 8 - 1 = 7\n",
    "* ~~M(4) = 2^4 - 1 = 16 - 1 = 15~~ <- 소수가 아님\n",
    "* M(5) = 2^5 - 1 = 32 - 1 = 31\n",
    "\n",
    "등등이 있다.\n",
    "\n",
    "그럼 메르센 소수를 구하는 알고리즘을 작셩해 봅시다.\n"
   ],
   "metadata": {
    "collapsed": false,
    "pycharm": {
     "name": "#%% md\n"
    }
   }
  },
  {
   "cell_type": "code",
   "execution_count": 10,
   "outputs": [
    {
     "name": "stdout",
     "output_type": "stream",
     "text": [
      "M(1) = 0\n",
      "M(2) = 3\n"
     ]
    }
   ],
   "source": [
    "class MerisennePrime: # 메르센 소수를 구하는 겍체를 생성합니다.\n",
    "    def is_merisenne_prime(self, N : int , printing = False) -> int:\n",
    "        \"\"\"\n",
    "        이 메소드는 메르센 소슈를 구하는 메소드입니다.\n",
    "        :param N:\n",
    "        :return:\n",
    "        \"\"\"\n",
    "        self.loop_number_list = []\n",
    "        self.merisenneprime_list = []\n",
    "        for i in range(1, N + 1):\n",
    "            self.loop_number_list.append(i)\n",
    "            mersen = is_mersenne_number(i)\n",
    "            if is_frime_2(mersen):\n",
    "                self.merisenneprime_list.append(mersen)\n",
    "                if printing:\n",
    "                    print(f\"M({i}) = {mersen}\")\n",
    "\n",
    "M = MerisennePrime()\n",
    "M.is_merisenne_prime(10, printing=True)"
   ],
   "metadata": {
    "collapsed": false,
    "pycharm": {
     "name": "#%%\n"
    }
   }
  }
 ],
 "metadata": {
  "kernelspec": {
   "display_name": "Python 3",
   "language": "python",
   "name": "python3"
  },
  "language_info": {
   "codemirror_mode": {
    "name": "ipython",
    "version": 2
   },
   "file_extension": ".py",
   "mimetype": "text/x-python",
   "name": "python",
   "nbconvert_exporter": "python",
   "pygments_lexer": "ipython2",
   "version": "2.7.6"
  }
 },
 "nbformat": 4,
 "nbformat_minor": 0
}