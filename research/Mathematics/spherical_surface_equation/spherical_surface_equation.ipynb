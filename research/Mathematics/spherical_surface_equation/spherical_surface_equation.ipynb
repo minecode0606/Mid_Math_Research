{
 "cells": [
  {
   "cell_type": "markdown",
   "metadata": {
    "collapsed": true,
    "pycharm": {
     "name": "#%% md\n"
    }
   },
   "source": [
    "# 구면의 방정식"
   ]
  },
  {
   "cell_type": "markdown",
   "source": [
    "spherical surface equation\n",
    "구면(球面)의 방정식은 3차원 방정식의 일종으로 3차원 공간에서 한 점에 대하여\n",
    "일정거리에 있는 점들의 집합이다.\n",
    "다음은 구면의 방정식의 그래프중 일종이다.\n",
    "\n",
    "<img alt=\"spherical_surface01\" height=\"70%\" src=\"github.com/minecode0606/Pyscientific/blob/master/research/Mathematics/spherical_surface_equation/spherical01.png\" width=\"70%\"/>"
   ],
   "metadata": {
    "collapsed": false,
    "pycharm": {
     "name": "#%% md\n"
    }
   }
  },
  {
   "cell_type": "code",
   "execution_count": null,
   "outputs": [],
   "source": [],
   "metadata": {
    "collapsed": false,
    "pycharm": {
     "name": "#%%\n"
    }
   }
  }
 ],
 "metadata": {
  "kernelspec": {
   "display_name": "Python 3",
   "language": "python",
   "name": "python3"
  },
  "language_info": {
   "codemirror_mode": {
    "name": "ipython",
    "version": 2
   },
   "file_extension": ".py",
   "mimetype": "text/x-python",
   "name": "python",
   "nbconvert_exporter": "python",
   "pygments_lexer": "ipython2",
   "version": "2.7.6"
  }
 },
 "nbformat": 4,
 "nbformat_minor": 0
}