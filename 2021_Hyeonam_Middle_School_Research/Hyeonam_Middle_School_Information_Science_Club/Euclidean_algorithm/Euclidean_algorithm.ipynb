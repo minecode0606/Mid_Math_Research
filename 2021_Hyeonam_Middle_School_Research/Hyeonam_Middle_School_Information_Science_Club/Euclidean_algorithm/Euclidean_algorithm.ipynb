{
 "cells": [
  {
   "cell_type": "markdown",
   "metadata": {
    "collapsed": true,
    "pycharm": {
     "name": "#%% md\n"
    }
   },
   "source": [
    "# 유클리드 알고리즘으로 최대공약수 구하기\n"
   ]
  },
  {
   "cell_type": "markdown",
   "source": [
    "## 유클리드 알고리즘이란\n",
    " 《기하학원본》에 기재되어 있는 최대공약수를 구하는 방법이다.\n",
    "이는 2개의 자연수의 최대공약수를 구하는 알고리즘이며,\n",
    "2개의 자연수(또는 정식) m , n에 대해서 m를 n로 나눈 나머지를 r이라 하면(단, m > n), m와 n의 최대공약수는 n와 r의 최대공약수와 같다.\n",
    "\n",
    "이 성질에 따라, n를 r로 나눈 나머지 r'를 구하고, 다시 r을 r'로 나눈 나머지를 구하는 과정을 반복하여 나머지가 0이 되었을 때 나누는 수가 m와 n의 최대공약수이다."
   ],
   "metadata": {
    "collapsed": false,
    "pycharm": {
     "name": "#%% md\n"
    }
   }
  },
  {
   "cell_type": "markdown",
   "source": [
    "예를들어\n",
    "1071과 1029의 최대공약수를 구하면,\n",
    "\n",
    "* 1071은 1029로 나누어떨어지지 않기 때문에, 1071을 1029로 나눈 나머지를 구한다. ≫ 42\n",
    "* 1029는 42로 나누어떨어지지 않기 때문에, 1029를 42로 나눈 나머지를 구한다. ≫ 21\n",
    "* 42는 21로 나누어떨어진다.\n",
    "따라서, 최대공약수는 21이다."
   ],
   "metadata": {
    "collapsed": false,
    "pycharm": {
     "name": "#%% md\n"
    }
   }
  },
  {
   "cell_type": "code",
   "execution_count": null,
   "outputs": [],
   "source": [
    "def gcd(m,n):\n",
    "\t\"\"\"\n",
    "\tm과 n을 입력받은후 유클리드 호제법을 사용하여 최대공약수를 구하는 함수입니다.\n",
    "\t유클리드 호제법 : m > n이고 m,n이 일반항일떄 (m,n) -> (n,r) 으로 변환시켜 r이 0이 될때 n의 값이 두수 m,n의 최대공약수이다.\n",
    "\t(이때 m > n, r은 m을 n으로 나눈 나머지)\n",
    "\tex)  (1071, 1029) = (1029, 42) = (42, 21) = (21, 0)이므로 gcd(1071, 1029) = 21이다.\n",
    "\n",
    "\t:param m,n (m > n):\n",
    "\t:return m과 n의 최대공약수 (ged):\n",
    "\t\"\"\"\n",
    "\tif m < n: # 만약 n이 m보다 크다면\n",
    "\t\tm, n = n, m # m과 n의 값을 바꿉니다. <- 전제에 m > n이라고 주어졌기 때문에 연산요류를 방지해주기 위한 예외처리 단계입니다.\n",
    "\tif n == 0: # 만약 n이 0이라면\n",
    "\t\treturn m # m을 반환합니다. <- 아니 인간적으로 m과 0의 최대공약수는 m이므로 당연히 예외처리 해줍니다. ex) gcd(100, 0)\n",
    "\tif m % n == 0: # 이말은 또 무어시나면 m을 n으로 나누었을때 나머지가 0이라면 당연히 n이 최대공약수기 떄문입니다. ex) gcd(10, 2)\n",
    "\t\treturn n\n",
    "\telse: # 위에서 언급한 예외처리 이외에 상황에서는 (m,n) -> (n,r)으로 변환시키는 함수를 재귀적으로 호출합니다.\n",
    "\t\treturn gcd(n, m%n)"
   ],
   "metadata": {
    "collapsed": false,
    "pycharm": {
     "name": "#%%\n"
    }
   }
  },
  {
   "cell_type": "markdown",
   "source": [
    "위 알고리즘은 크게 정수적인 면으로도 증명할수 있지만, 알아야할 개념이 너무 많기때문에\n",
    "간단하게 넓이로 증명을 해 볼수 있다."
   ],
   "metadata": {
    "collapsed": false
   }
  },
  {
   "cell_type": "markdown",
   "source": [
    "## 증명"
   ],
   "metadata": {
    "collapsed": false,
    "pycharm": {
     "name": "#%% md\n"
    }
   }
  },
  {
   "cell_type": "markdown",
   "source": [
    "핵심 : 두 정수 m,n (m > n) 이 직사각형의 두 변의 길이라 두고 이 직사각형을 정사각형으로 매꿀수 있는\n",
    "정사각형을 찾은뒤 한 면의 길이를 구하기."
   ],
   "metadata": {
    "collapsed": false,
    "pycharm": {
     "name": "#%% md\n"
    }
   }
  },
  {
   "cell_type": "markdown",
   "source": [
    "예시)\n",
    "* m = 40, n = 12 이라 두자\n",
    "* 40 x 12의 직사각형에서 짧은 변의 길이인 12를 한 변으로 하는 정사각형으로 나눈다.\n",
    "그렇다면 12 x 12인 정사각형 3개와 12 x 4인 직사각형 1개로 나누어 질 것이다.\n",
    "* 12 x 4인 직사각형에서 짧은 변의 길이인 4를 한 변으로 하는 정사각형으로 나눈다. 이때\n",
    " 12 x 4인 직사각형에서 4 x 4인 정사각형이 3개 들어가고 남은 넓이가 없으므로 두수 40, 12의 최대공약수는 4이다."
   ],
   "metadata": {
    "collapsed": false,
    "pycharm": {
     "name": "#%% md\n"
    }
   }
  },
  {
   "cell_type": "markdown",
   "source": [
    "Copyright (c) 2021-09-14 [MinseoKang](https://github.com/minecode0606)"
   ],
   "metadata": {
    "collapsed": false,
    "pycharm": {
     "name": "#%% md\n"
    }
   }
  }
 ],
 "metadata": {
  "kernelspec": {
   "display_name": "Python 3",
   "language": "python",
   "name": "python3"
  },
  "language_info": {
   "codemirror_mode": {
    "name": "ipython",
    "version": 2
   },
   "file_extension": ".py",
   "mimetype": "text/x-python",
   "name": "python",
   "nbconvert_exporter": "python",
   "pygments_lexer": "ipython2",
   "version": "2.7.6"
  }
 },
 "nbformat": 4,
 "nbformat_minor": 0
}